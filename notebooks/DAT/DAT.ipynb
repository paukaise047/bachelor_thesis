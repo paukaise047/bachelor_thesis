{
 "cells": [
  {
   "cell_type": "code",
   "outputs": [
    {
     "name": "stdout",
     "output_type": "stream",
     "text": [
      "Iteration 1:\r\n",
      "Response:\r\n",
      "Dog,Plane,Love,Water,Book,Freedom,Music\r\n",
      "\r\n",
      "Iteration 2:\r\n",
      "Response:\r\n",
      "Dog,Mountain,Happiness,Computer,Truth,Guitar,Weather.\r\n",
      "\r\n"
     ]
    }
   ],
   "source": [
    "!python individual_gpt3.5.gpt4.py"
   ],
   "metadata": {
    "collapsed": false,
    "ExecuteTime": {
     "end_time": "2024-07-01T08:26:33.993051Z",
     "start_time": "2024-07-01T08:26:31.396207Z"
    }
   },
   "id": "a734835eb3d549f5",
   "execution_count": 1
  },
  {
   "cell_type": "code",
   "outputs": [
    {
     "name": "stdout",
     "output_type": "stream",
     "text": [
      "Excel file created successfully with a new sheet named 'Words'.\r\n"
     ]
    }
   ],
   "source": [
    "!python divergent-association-task/calculations.py"
   ],
   "metadata": {
    "collapsed": false,
    "ExecuteTime": {
     "end_time": "2024-05-13T08:24:23.166057Z",
     "start_time": "2024-05-13T08:24:22.689574Z"
    }
   },
   "id": "c436f25dcfa28337",
   "execution_count": 17
  },
  {
   "cell_type": "code",
   "outputs": [],
   "source": [
    "#run python script and afterwards the calculations.py script in order to get the DAT scores"
   ],
   "metadata": {
    "collapsed": false
   },
   "id": "33feb80b797f8f51"
  }
 ],
 "metadata": {
  "kernelspec": {
   "display_name": "Python 3",
   "language": "python",
   "name": "python3"
  },
  "language_info": {
   "codemirror_mode": {
    "name": "ipython",
    "version": 2
   },
   "file_extension": ".py",
   "mimetype": "text/x-python",
   "name": "python",
   "nbconvert_exporter": "python",
   "pygments_lexer": "ipython2",
   "version": "2.7.6"
  }
 },
 "nbformat": 4,
 "nbformat_minor": 5
}
