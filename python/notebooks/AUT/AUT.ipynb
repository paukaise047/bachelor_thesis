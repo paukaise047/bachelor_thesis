{
 "cells": [
  {
   "cell_type": "code",
   "execution_count": 38,
   "id": "initial_id",
   "metadata": {
    "collapsed": true,
    "ExecuteTime": {
     "end_time": "2024-06-16T14:51:36.494768Z",
     "start_time": "2024-06-16T14:07:46.441275Z"
    }
   },
   "outputs": [],
   "source": [
    "!python AUT_individual_gpt.py"
   ]
  },
  {
   "cell_type": "code",
   "outputs": [],
   "source": [
    "# Run the python scripts here and then for scoring using the Open Creativity Scoring Tool"
   ],
   "metadata": {
    "collapsed": false,
    "ExecuteTime": {
     "end_time": "2024-06-16T13:47:31.484189Z",
     "start_time": "2024-06-16T13:38:31.874166Z"
    }
   },
   "id": "22b7c94d1355d6b3",
   "execution_count": 37
  }
 ],
 "metadata": {
  "kernelspec": {
   "display_name": "Python 3",
   "language": "python",
   "name": "python3"
  },
  "language_info": {
   "codemirror_mode": {
    "name": "ipython",
    "version": 2
   },
   "file_extension": ".py",
   "mimetype": "text/x-python",
   "name": "python",
   "nbconvert_exporter": "python",
   "pygments_lexer": "ipython2",
   "version": "2.7.6"
  }
 },
 "nbformat": 4,
 "nbformat_minor": 5
}
